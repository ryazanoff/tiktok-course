{
 "cells": [
  {
   "cell_type": "markdown",
   "id": "1ace39aa",
   "metadata": {},
   "source": [
    "# Домашнее задание по numpy\n",
    "Все решения должны быть в 1-2 строки"
   ]
  },
  {
   "cell_type": "code",
   "execution_count": null,
   "id": "3ecee43e",
   "metadata": {},
   "outputs": [],
   "source": [
    "import numpy as np # сделаю это за вас"
   ]
  },
  {
   "cell_type": "code",
   "execution_count": null,
   "id": "02388b6b",
   "metadata": {},
   "outputs": [],
   "source": [
    "# 0. зафиксируйте свой любимый seed \n"
   ]
  },
  {
   "cell_type": "code",
   "execution_count": null,
   "id": "acf9eae1",
   "metadata": {},
   "outputs": [],
   "source": [
    "# 1. Создайте трехмерный массив со случайными числами от 97 до 99\n"
   ]
  },
  {
   "cell_type": "code",
   "execution_count": null,
   "id": "967696e1",
   "metadata": {},
   "outputs": [],
   "source": [
    "# 2. Создайте квдартраный массив размером 5x5 с целыми числами от -10 до 10 (зафиксируйте этот массив А)\n"
   ]
  },
  {
   "cell_type": "code",
   "execution_count": null,
   "id": "8b2fb5b0",
   "metadata": {},
   "outputs": [],
   "source": [
    "# 3. Найдите собственные векторы предыдущего массива (А)\n"
   ]
  },
  {
   "cell_type": "code",
   "execution_count": null,
   "id": "9d94f2ed",
   "metadata": {},
   "outputs": [],
   "source": [
    "# 4. Замените первые 5 чисел A на максимумы по столбцам и сохраните в массив B\n"
   ]
  },
  {
   "cell_type": "code",
   "execution_count": null,
   "id": "7bce9c77",
   "metadata": {},
   "outputs": [],
   "source": [
    "# 5. Конкатенируйте 4 массива в массив вида:\n",
    "\n",
    "# A B\n",
    "# C D\n",
    "# где \n",
    "#     C - транспонированный B\n",
    "#     D - поэлементно умноженный A на С\n",
    "# Размер массива должен быть 10x10"
   ]
  },
  {
   "cell_type": "markdown",
   "id": "6782abf3",
   "metadata": {},
   "source": [
    "# Если вы все сделали - то давайте двигаться дальше 😉"
   ]
  }
 ],
 "metadata": {
  "kernelspec": {
   "display_name": "Python 3",
   "language": "python",
   "name": "python3"
  },
  "language_info": {
   "codemirror_mode": {
    "name": "ipython",
    "version": 3
   },
   "file_extension": ".py",
   "mimetype": "text/x-python",
   "name": "python",
   "nbconvert_exporter": "python",
   "pygments_lexer": "ipython3",
   "version": "3.8.2"
  }
 },
 "nbformat": 4,
 "nbformat_minor": 5
}
