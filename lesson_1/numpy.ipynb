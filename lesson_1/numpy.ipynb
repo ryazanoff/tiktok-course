{
 "cells": [
  {
   "cell_type": "markdown",
   "id": "dc6b0f65",
   "metadata": {},
   "source": [
    "# Numpy\n",
    "NumPy - одна из основных и самых популярных библиотек в python.\n",
    "Главный объект NumPy - это однородный многомерный массив. Это таблица элементов (как правило чисел) одного типа, индексированных набором неотрицательных целых чисел. В NumPy измерения называются осями.\n",
    "\n",
    "Например, координаты точки в трехмерном пространстве `[1, 2, 1]` имеют одну ось. Эта ось имеет 3 элемента, поэтому мы говорим, что она имеет длину 3. В примере, изображенном ниже, массив имеет 2 оси. Первая ось имеет длину 2, вторая ось имеет длину 3.\n",
    "\n",
    "Не забудь установить numpy через pip "
   ]
  },
  {
   "cell_type": "code",
   "execution_count": null,
   "id": "622661bb",
   "metadata": {},
   "outputs": [],
   "source": [
    "! pip install numpy"
   ]
  },
  {
   "cell_type": "code",
   "execution_count": 1,
   "id": "be34abd1",
   "metadata": {},
   "outputs": [],
   "source": [
    "import numpy as np # стандартное сокращение"
   ]
  },
  {
   "cell_type": "code",
   "execution_count": 2,
   "id": "8ad814d2",
   "metadata": {},
   "outputs": [
    {
     "name": "stdout",
     "output_type": "stream",
     "text": [
      "[[1.0, 0.0, 0.0], [0.0, 1.0, 2.0]]\n",
      "[[1. 0. 0.]\n",
      " [0. 1. 2.]]\n"
     ]
    }
   ],
   "source": [
    "my_list = [[ 1., 0., 0.],\n",
    "          [ 0., 1., 2.]]\n",
    "my_array = np.array(my_list)\n",
    "\n",
    "print(my_list) # список (list)\n",
    "print(my_array) # numpy массив"
   ]
  },
  {
   "cell_type": "markdown",
   "id": "77a9fd69",
   "metadata": {},
   "source": [
    "Класс массива NumPy называется ndarray. Обратите внимание, что numpy.array - это не то же самое, что класс array.array стандартной библиотеки Python, который обрабатывает только одномерные массивы и предлагает меньшую функциональность. Наиболее важные атрибуты объекта ndarray:\n",
    "\n",
    "### ndarray.ndim\n",
    "количество осей (размерностей) массива.\n",
    "\n",
    "### ndarray.shape\n",
    "размеры массива. Это кортеж целых чисел, указывающий размер массива в каждом измерении. Для матрицы с n строками и m столбцами форма будет (n, m). Таким образом, длина кортежа формы равна количеству осей ndim.\n",
    "\n",
    "### ndarray.size\n",
    "общее количество элементов массива. Это равно произведению размеров осей (shape).\n",
    "\n",
    "### ndarray.dtype\n",
    "объект, описывающий тип элементов в массиве. Можно создать или указать dtype, используя стандартные типы Python. Кроме того, NumPy предоставляет собственные типы. numpy.int32, numpy.int16 и numpy.float64 - вот некоторые примеры.\n",
    "\n",
    "### ndarray.itemsize\n",
    "размер в байтах каждого элемента массива. Например, массив элементов типа float64 имеет размер элемента 8 (= 64/8), а массив элементов типа complex32 имеет размер элемента 4 (= 32/8). Это эквивалент ndarray.dtype.itemsize.\n",
    "\n",
    "Если непонятны какие-то слова (например кортеж 😉) то ботайте питон"
   ]
  },
  {
   "cell_type": "code",
   "execution_count": 3,
   "id": "85228443",
   "metadata": {},
   "outputs": [
    {
     "name": "stdout",
     "output_type": "stream",
     "text": [
      "[[1. 0. 0.]\n",
      " [0. 1. 2.]]\n",
      "(2, 3)\n",
      "2\n",
      "float64\n",
      "[[1 0 0]\n",
      " [0 1 2]]\n",
      "uint8\n"
     ]
    }
   ],
   "source": [
    "print(my_array)\n",
    "print(my_array.shape)\n",
    "print(my_array.ndim)\n",
    "print(my_array.dtype)\n",
    "\n",
    "# изменим тип массива\n",
    "print(my_array.astype(np.uint8))\n",
    "print(my_array.astype(np.uint8).dtype)"
   ]
  },
  {
   "cell_type": "markdown",
   "id": "7e13caaa",
   "metadata": {},
   "source": [
    "Часто при загрузке данных из csv / создании массива выбирается самый избыточный тип (np.float64).\n",
    "\n",
    "Уменьшайте при необходимости:\n",
    "    https://numpy.org/devdocs/user/basics.types.html"
   ]
  },
  {
   "cell_type": "markdown",
   "id": "a49abc24",
   "metadata": {},
   "source": [
    "# Создание массива\n",
    "Создать массив можно из многих итерируемых объектов (список, кортеж, ...)\n"
   ]
  },
  {
   "cell_type": "code",
   "execution_count": 4,
   "id": "335be549",
   "metadata": {},
   "outputs": [
    {
     "name": "stdout",
     "output_type": "stream",
     "text": [
      "[1 2 3] [ 1  4 10] [0 1 2 3 4 5 6 7 8 9] [ 1.  4. 10.]\n"
     ]
    }
   ],
   "source": [
    "a = np.array([1, 2, 3])\n",
    "b = np.array((1, 4, 10))\n",
    "c = np.array(range(10))\n",
    "d = np.array((1, 4., 10))\n",
    "print(a, b, c, d)"
   ]
  },
  {
   "cell_type": "markdown",
   "id": "4bcd7c24",
   "metadata": {},
   "source": [
    "Как и выше - можно создавать многомерные массивы"
   ]
  },
  {
   "cell_type": "code",
   "execution_count": 5,
   "id": "77953b07",
   "metadata": {},
   "outputs": [
    {
     "name": "stdout",
     "output_type": "stream",
     "text": [
      "[[[1 2 3]\n",
      "  [1 2 3]]\n",
      "\n",
      " [[7 7 7]\n",
      "  [8 8 8]]]\n",
      "3\n",
      "(2, 2, 3)\n"
     ]
    }
   ],
   "source": [
    "a_1d = np.array([1, 2, 3])\n",
    "a_2d = np.array([[1, 2, 3], [1, 2, 3]])\n",
    "a_3d = np.array([[[1, 2, 3], [1, 2, 3]], [[7, 7, 7], [8, 8, 8]]])\n",
    "### итд\n",
    "print(a_3d)\n",
    "print(a_3d.ndim)\n",
    "print(a_3d.shape)"
   ]
  },
  {
   "cell_type": "markdown",
   "id": "1f8aadf2",
   "metadata": {},
   "source": [
    "Часто элементы массива изначально неизвестны, но известен его размер. Следовательно, NumPy предлагает несколько функций для создания массивов с начальным содержимым заполнителя. Это сводит к минимуму необходимость увеличения массивов, что является дорогостоящей операцией.\n",
    "\n",
    "## zeros \n",
    "создает массим из нулей\n",
    "## ones\n",
    "создает массив из единиц\n",
    "## empty \n",
    "создает массив, начальное содержимое которого является случайным и зависит от состояния памяти.  \n",
    "По умолчанию dtype созданного массива - float64."
   ]
  },
  {
   "cell_type": "code",
   "execution_count": 6,
   "id": "64cbdb6e",
   "metadata": {},
   "outputs": [
    {
     "name": "stdout",
     "output_type": "stream",
     "text": [
      "[[[0 0 0 0]\n",
      "  [0 0 0 0]\n",
      "  [0 0 0 0]]\n",
      "\n",
      " [[0 0 0 0]\n",
      "  [0 0 0 0]\n",
      "  [0 0 0 0]]]\n",
      "[[[1 1 1 1]\n",
      "  [1 1 1 1]\n",
      "  [1 1 1 1]]\n",
      "\n",
      " [[1 1 1 1]\n",
      "  [1 1 1 1]\n",
      "  [1 1 1 1]]]\n",
      "[[[1 1 1 1]\n",
      "  [1 1 1 1]\n",
      "  [1 1 1 1]]\n",
      "\n",
      " [[1 1 1 1]\n",
      "  [1 1 1 1]\n",
      "  [1 1 1 1]]]\n"
     ]
    }
   ],
   "source": [
    "print(np.zeros((2,3,4), dtype=np.int16))\n",
    "print(np.ones((2,3,4), dtype=np.int16))\n",
    "print(np.empty((2,3,4), dtype=np.int16))"
   ]
  },
  {
   "cell_type": "markdown",
   "id": "3127a2d8",
   "metadata": {},
   "source": [
    "## Создание массива на интервале\n",
    "По аналогии со стандартной функцией `range` есть функция `arange`, котороая принимает начальный элемент (включительно), конечный (не включительно) и размер шага\n",
    "\n",
    "Также есть функция `linspace`, в которой нужно указать количество элементов а не длину шага. Для логарифмической шкалы можно применить `logspace`"
   ]
  },
  {
   "cell_type": "code",
   "execution_count": 7,
   "id": "83dc6274",
   "metadata": {},
   "outputs": [
    {
     "name": "stdout",
     "output_type": "stream",
     "text": [
      "[10 15 20 25]\n",
      "[10.  10.5 11.  11.5 12.  12.5 13.  13.5 14. ]\n",
      "[10.   11.25 12.5  13.75 15.  ]\n",
      "[10. 11. 12. 13. 14. 15.]\n",
      "[1.         1.04712855 1.0964782  1.14815362 1.20226443 1.25892541]\n"
     ]
    }
   ],
   "source": [
    "print(np.arange(10, 30, 5))\n",
    "print(np.arange(10, 14.5, 0.5))\n",
    "print(np.linspace(10, 15, 5))\n",
    "print(np.linspace(10, 15, 6))\n",
    "print(np.logspace(0, 0.1, 6, base=10)) # 6 элементов от 10**0 до 10**(0.1)"
   ]
  },
  {
   "cell_type": "markdown",
   "id": "e276c3f2",
   "metadata": {},
   "source": [
    "Форму массива можно менять с помощью `reshape, ravel, flatten`"
   ]
  },
  {
   "cell_type": "code",
   "execution_count": 8,
   "id": "53e7d384",
   "metadata": {},
   "outputs": [
    {
     "name": "stdout",
     "output_type": "stream",
     "text": [
      "[0 1 2 3]\n",
      "[[0 1]\n",
      " [2 3]]\n",
      "[[0 1]\n",
      " [2 3]]\n",
      "[[[0]\n",
      "  [1]]\n",
      "\n",
      " [[2]\n",
      "  [3]]]\n"
     ]
    }
   ],
   "source": [
    "a = np.array(range(4))\n",
    "print(a)\n",
    "b = a.reshape((2, 2))\n",
    "print(b)\n",
    "# если мы не знаем размер второй(или еще какой) оси то можем его не указывать (но только для одной оси!)\n",
    "b = a.reshape((2, -1))\n",
    "print(b)\n",
    "b = a.reshape((2, 2, -1)) # 3D массив\n",
    "print(b)"
   ]
  },
  {
   "cell_type": "code",
   "execution_count": 9,
   "id": "891d3c0b",
   "metadata": {},
   "outputs": [
    {
     "ename": "ValueError",
     "evalue": "can only specify one unknown dimension",
     "output_type": "error",
     "traceback": [
      "\u001b[0;31m---------------------------------------------------------------------------\u001b[0m",
      "\u001b[0;31mValueError\u001b[0m                                Traceback (most recent call last)",
      "\u001b[0;32m<ipython-input-9-082c7e908e53>\u001b[0m in \u001b[0;36m<module>\u001b[0;34m\u001b[0m\n\u001b[0;32m----> 1\u001b[0;31m \u001b[0mb\u001b[0m \u001b[0;34m=\u001b[0m \u001b[0ma\u001b[0m\u001b[0;34m.\u001b[0m\u001b[0mreshape\u001b[0m\u001b[0;34m(\u001b[0m\u001b[0;34m(\u001b[0m\u001b[0;36m2\u001b[0m\u001b[0;34m,\u001b[0m \u001b[0;34m-\u001b[0m\u001b[0;36m1\u001b[0m\u001b[0;34m,\u001b[0m \u001b[0;34m-\u001b[0m\u001b[0;36m1\u001b[0m\u001b[0;34m)\u001b[0m\u001b[0;34m)\u001b[0m \u001b[0;31m# 3D массив\u001b[0m\u001b[0;34m\u001b[0m\u001b[0;34m\u001b[0m\u001b[0m\n\u001b[0m\u001b[1;32m      2\u001b[0m \u001b[0mprint\u001b[0m\u001b[0;34m(\u001b[0m\u001b[0mb\u001b[0m\u001b[0;34m)\u001b[0m\u001b[0;34m\u001b[0m\u001b[0;34m\u001b[0m\u001b[0m\n",
      "\u001b[0;31mValueError\u001b[0m: can only specify one unknown dimension"
     ]
    }
   ],
   "source": [
    "b = a.reshape((2, -1, -1)) # 3D массив\n",
    "print(b)"
   ]
  },
  {
   "cell_type": "markdown",
   "id": "ab66d785",
   "metadata": {},
   "source": [
    "Распрямляем массив в одну ось\n",
    "\n",
    "Разница ravel и flatten:\n",
    "    https://stackoverflow.com/questions/28930465/what-is-the-difference-between-flatten-and-ravel-functions-in-numpy"
   ]
  },
  {
   "cell_type": "code",
   "execution_count": 10,
   "id": "a5791051",
   "metadata": {},
   "outputs": [
    {
     "name": "stdout",
     "output_type": "stream",
     "text": [
      "[0 1 2 3]\n",
      "[[[0]\n",
      "  [1]]\n",
      "\n",
      " [[2]\n",
      "  [3]]]\n",
      "[0 1 2 3]\n"
     ]
    }
   ],
   "source": [
    "c = b.ravel()\n",
    "print(c)\n",
    "\n",
    "print(b)\n",
    "\n",
    "c = b.flatten()\n",
    "print(c)"
   ]
  },
  {
   "cell_type": "markdown",
   "id": "bbcab096",
   "metadata": {},
   "source": [
    ".T транспонирует массив"
   ]
  },
  {
   "cell_type": "code",
   "execution_count": 11,
   "id": "35946b20",
   "metadata": {},
   "outputs": [
    {
     "name": "stdout",
     "output_type": "stream",
     "text": [
      "[0 1 2 3]\n",
      "[[0 1]\n",
      " [2 3]]\n",
      "[[0 2]\n",
      " [1 3]]\n"
     ]
    }
   ],
   "source": [
    "a = np.array(range(4))\n",
    "print(a)\n",
    "b = a.reshape((2, 2))\n",
    "print(b)\n",
    "print(b.T)\n"
   ]
  },
  {
   "cell_type": "markdown",
   "id": "81504058",
   "metadata": {},
   "source": [
    "# Операции над массивами\n",
    "Массивы numpy поддерживают многие стандартные числовые операции:  \n",
    "\n",
    "`+ - + /`  \n",
    "Можно использовать операции сразу с присвоением результата:\n",
    "\n",
    "`+= -= ...`\n",
    "\n",
    "Если `a` `b` являются массивами, то `a*b` - поэлементное умножение, а `a @ b` - матричное"
   ]
  },
  {
   "cell_type": "code",
   "execution_count": 12,
   "id": "9f1acaea",
   "metadata": {},
   "outputs": [
    {
     "name": "stdout",
     "output_type": "stream",
     "text": [
      "[[2 2]\n",
      " [1 2]]\n",
      "[[3 3]\n",
      " [0 3]]\n",
      "[[2 0]\n",
      " [0 4]]\n",
      "[[5 4]\n",
      " [3 4]]\n",
      "[[5 4]\n",
      " [3 4]]\n",
      "[[5 4]\n",
      " [3 4]]\n"
     ]
    }
   ],
   "source": [
    "A = np.array([[1,1], [0,1]])\n",
    "B = np.array([[2,0], [3,4]])\n",
    "print(A + 1)\n",
    "print(A * 3)\n",
    "\n",
    "print(A * B) # поэлементное умножение\n",
    "print(A @ B) # матричное умножение\n",
    "\n",
    "print(A.dot(B)) # тоже матричное умножение\n",
    "print(np.dot(A, B)) # и еще одно матричное умножение"
   ]
  },
  {
   "cell_type": "code",
   "execution_count": 13,
   "id": "b43f4852",
   "metadata": {},
   "outputs": [
    {
     "name": "stdout",
     "output_type": "stream",
     "text": [
      "[[2 0]\n",
      " [0 4]]\n"
     ]
    }
   ],
   "source": [
    "A *= B\n",
    "print(A) # массив A изменился"
   ]
  },
  {
   "cell_type": "markdown",
   "id": "bc614e7d",
   "metadata": {},
   "source": [
    "# Функции от массивов\n",
    "np массивы поддерживают многие опреации как от всего массива, так и в направлении определенной оси"
   ]
  },
  {
   "cell_type": "code",
   "execution_count": 14,
   "id": "ba93b11e",
   "metadata": {},
   "outputs": [
    {
     "name": "stdout",
     "output_type": "stream",
     "text": [
      "[0 1 2 3]\n",
      "[[0 1]\n",
      " [2 3]]\n",
      "3\n",
      "[1 3]\n",
      "[2 3]\n",
      "[0 1 3 6]\n",
      "6\n",
      "[0.5 0.5]\n",
      "[0.5 0.5]\n",
      "[0.         1.         1.41421356 1.73205081]\n",
      "[0.         0.84147098 0.90929743 0.14112001]\n",
      "[ 1.          2.71828183  7.3890561  20.08553692]\n",
      "466.41599962481\n"
     ]
    }
   ],
   "source": [
    "a = np.array(range(4))\n",
    "print(a)\n",
    "b = a.reshape((2, 2))\n",
    "print(b)\n",
    "\n",
    "print(b.max())\n",
    "print(b.max(axis=1)) # вернет массив максимумов по строкам\n",
    "print(b.max(axis=0)) # вернет массив максимумов по столбцам\n",
    "\n",
    "# еще примеры\n",
    "\n",
    "print(b.cumsum())\n",
    "print(b.sum())\n",
    "print(b.std(axis=1))\n",
    "\n",
    "# или так\n",
    "print(np.std(b, axis=1))\n",
    "\n",
    "# примеры математических функций\n",
    "\n",
    "print(np.sqrt(a))\n",
    "print(np.sin(a))\n",
    "print(np.exp(a))\n",
    "\n",
    "print(np.exp(a) @ np.exp(a))"
   ]
  },
  {
   "cell_type": "markdown",
   "id": "395c6578",
   "metadata": {},
   "source": [
    "# Индексирование\n",
    "Одномерные массивы можно индексировать как списки и другие итерируемые объекты в Python."
   ]
  },
  {
   "cell_type": "code",
   "execution_count": 15,
   "id": "bfb7b9e4",
   "metadata": {},
   "outputs": [
    {
     "name": "stdout",
     "output_type": "stream",
     "text": [
      "[  0   1   8  27  64 125 216 343 512 729]\n",
      "8\n",
      "[ 8 27 64]\n",
      "[1000    1 1000   27 1000  125  216  343  512  729]\n",
      "[ 729  512  343  216  125 1000   27 1000    1 1000]\n"
     ]
    }
   ],
   "source": [
    "a = np.arange(10)**3\n",
    "print(a)\n",
    "print(a[2])\n",
    "print(a[2:5])\n",
    "a[:6:2] = 1000\n",
    "print(a)\n",
    "print(a[ : :-1])"
   ]
  },
  {
   "cell_type": "markdown",
   "id": "22437681",
   "metadata": {},
   "source": [
    "Многомерные массивы можно индексировать вдоль каждой оси отдельно"
   ]
  },
  {
   "cell_type": "code",
   "execution_count": 16,
   "id": "4d512d67",
   "metadata": {},
   "outputs": [
    {
     "name": "stdout",
     "output_type": "stream",
     "text": [
      "[[   0    1    8   27]\n",
      " [  64  125  216  343]\n",
      " [ 512  729 1000 1331]\n",
      " [1728 2197 2744 3375]]\n",
      "1331\n",
      "[   1  125  729 2197]\n",
      "[   1  125  729 2197]\n",
      "[[  64  125  216  343]\n",
      " [ 512  729 1000 1331]]\n"
     ]
    }
   ],
   "source": [
    "b = (np.arange(16)**3).reshape((4, 4))\n",
    "print(b)\n",
    "print(b[2,3])\n",
    "print(b[0:5, 1])\n",
    "print(b[:,1])\n",
    "print(b[1:3,:])\n"
   ]
  },
  {
   "cell_type": "code",
   "execution_count": 17,
   "id": "941971ce",
   "metadata": {},
   "outputs": [
    {
     "name": "stdout",
     "output_type": "stream",
     "text": [
      "[ 64 125 216 343]\n"
     ]
    }
   ],
   "source": [
    "# если обратиться к одному индексу, то вернется первая строка (массив вдоль нулевой оси)\n",
    "print(b[1])"
   ]
  },
  {
   "cell_type": "code",
   "execution_count": 18,
   "id": "b5a62fb2",
   "metadata": {},
   "outputs": [
    {
     "name": "stdout",
     "output_type": "stream",
     "text": [
      "[   1  125  729 2197]\n"
     ]
    }
   ],
   "source": [
    "# если нужно указать срез вдоль одной оси а другие не трогать можно использовать троеточие ...\n",
    "print(b[..., 1])"
   ]
  },
  {
   "cell_type": "markdown",
   "id": "28b41e47",
   "metadata": {},
   "source": [
    "# Объединение массивов и разбиение массива"
   ]
  },
  {
   "cell_type": "code",
   "execution_count": 19,
   "id": "2a07dc3f",
   "metadata": {},
   "outputs": [
    {
     "name": "stdout",
     "output_type": "stream",
     "text": [
      "[[7.7 0.2]\n",
      " [6.3 7.4]]\n",
      "[[4.9 2.2]\n",
      " [1.9 7.6]]\n",
      "[[7.7 0.2 4.9 2.2]\n",
      " [6.3 7.4 1.9 7.6]]\n",
      "[[7.7 0.2]\n",
      " [6.3 7.4]\n",
      " [4.9 2.2]\n",
      " [1.9 7.6]]\n",
      "[[[7.7 0.2]\n",
      "  [6.3 7.4]]\n",
      "\n",
      " [[4.9 2.2]\n",
      "  [1.9 7.6]]]\n"
     ]
    }
   ],
   "source": [
    "# фиксируем случайный сид\n",
    "np.random.seed(10)\n",
    "\n",
    "# генерируем 2 массива (всегда будут генерироваться одни и те же)\n",
    "a = np.floor(100*np.random.rand(4).reshape((2, 2)))/10\n",
    "b = np.floor(100*np.random.rand(4).reshape((2, 2)))/10\n",
    "print(a)\n",
    "print(b)\n",
    "\n",
    "# конкатенируем вдоль строк\n",
    "print(np.hstack([a, b]))\n",
    "\n",
    "# конкатенируем вдоль столбцов\n",
    "print(np.vstack([a, b]))\n",
    "\n",
    "# конкатенируем вдоль произвольной оси\n",
    "print(np.stack([a, b], axis=0))"
   ]
  },
  {
   "cell_type": "markdown",
   "id": "56bce863",
   "metadata": {},
   "source": [
    "Заменяем stack на split и получаем разбиение массивов"
   ]
  },
  {
   "cell_type": "code",
   "execution_count": 20,
   "id": "c745047d",
   "metadata": {},
   "outputs": [
    {
     "name": "stdout",
     "output_type": "stream",
     "text": [
      "[array([[7.7],\n",
      "       [6.3]]), array([[0.2],\n",
      "       [7.4]])]\n",
      "[array([[7.7, 0.2]]), array([[6.3, 7.4]])]\n",
      "[array([[7.7],\n",
      "       [6.3]]), array([[0.2],\n",
      "       [7.4]])]\n"
     ]
    }
   ],
   "source": [
    "print(np.hsplit(a, 2)) \n",
    "print(np.vsplit(a, 2)) \n",
    "print(np.split(a, 2, axis=1)) "
   ]
  },
  {
   "cell_type": "markdown",
   "id": "013b1ea8",
   "metadata": {},
   "source": [
    "# Копирование массивов\n",
    "При работе с массивами и манипулировании ими их данные иногда копируются в новый массив, а иногда нет. Это часто сбивает с толку новичков. Есть три случая:"
   ]
  },
  {
   "cell_type": "code",
   "execution_count": 21,
   "id": "f73a6be0",
   "metadata": {},
   "outputs": [
    {
     "data": {
      "text/plain": [
       "True"
      ]
     },
     "execution_count": 21,
     "metadata": {},
     "output_type": "execute_result"
    }
   ],
   "source": [
    "# тот же самый массив\n",
    "\n",
    "a = np.floor(100*np.random.rand(4).reshape((2, 2)))/10\n",
    "b = a\n",
    "a is b"
   ]
  },
  {
   "cell_type": "code",
   "execution_count": 22,
   "id": "9be471eb",
   "metadata": {},
   "outputs": [
    {
     "name": "stdout",
     "output_type": "stream",
     "text": [
      "False\n",
      "True\n",
      "[[0.  5.1]\n",
      " [8.1 6.1]]\n",
      "[[0.  5.1]\n",
      " [8.1 6.1]]\n",
      "[[0.  5.1 8.1 6.1]]\n",
      "[[-10.    5.1]\n",
      " [  8.1   6.1]]\n"
     ]
    }
   ],
   "source": [
    "# view - НОВЫЙ массив но с ТЕМИ ЖЕ данными\n",
    "a = np.floor(100*np.random.rand(4).reshape((2, 2)))/10\n",
    "b = a.view()\n",
    "print(a is b)\n",
    "print(b.base is a)\n",
    "\n",
    "print(a)\n",
    "b = b.reshape((1, -1))\n",
    "print(a) # а не изменился\n",
    "print(b) \n",
    "b[0, 0] = -10\n",
    "print(a) # а изменился!"
   ]
  },
  {
   "cell_type": "code",
   "execution_count": 23,
   "id": "6ad7fb4f",
   "metadata": {},
   "outputs": [
    {
     "name": "stdout",
     "output_type": "stream",
     "text": [
      "False\n",
      "False\n",
      "[[7.2 2.9]\n",
      " [9.1 7.1]]\n",
      "[[7.2 2.9]\n",
      " [9.1 7.1]]\n",
      "[[7.2 2.9 9.1 7.1]]\n",
      "[[7.2 2.9]\n",
      " [9.1 7.1]]\n"
     ]
    }
   ],
   "source": [
    "# Метод copy возвращает новый массив с новыми данными\n",
    "a = np.floor(100*np.random.rand(4).reshape((2, 2)))/10\n",
    "b = a.copy()\n",
    "print(a is b)\n",
    "print(b.base is a)\n",
    "\n",
    "print(a)\n",
    "b = b.reshape((1, -1))\n",
    "print(a) # а не изменился\n",
    "print(b) \n",
    "b[0, 0] = -10\n",
    "print(a) # а не изменился"
   ]
  },
  {
   "cell_type": "markdown",
   "id": "1f0652db",
   "metadata": {},
   "source": [
    "# Продвинутое индексирование\n",
    "NumPy предлагает больше возможностей для индексирования, чем стандартные методы Python. В дополнение к индексации целыми числами и срезами, как мы видели ранее, массивы могут индексироваться массивами целых чисел и массивами bool."
   ]
  },
  {
   "cell_type": "code",
   "execution_count": 24,
   "id": "9f1f605c",
   "metadata": {},
   "outputs": [
    {
     "name": "stdout",
     "output_type": "stream",
     "text": [
      "[ 1  1  9 64 25]\n",
      "[[ 9 16]\n",
      " [81 49]]\n",
      "[[[ 9 16]\n",
      "  [81 49]]\n",
      "\n",
      " [[ 9 16]\n",
      "  [81 49]]]\n"
     ]
    }
   ],
   "source": [
    "a = np.arange(12)**2                       \n",
    "\n",
    "i = np.array([1, 1, 3, 8, 5])\n",
    "print(a[i]) # индексируме одномерным массивом (он может быть любого размера - возьмутся соответствующие индексы)\n",
    "j = np.array([[3, 4], [9, 7]])\n",
    "print(a[j]) # индексируем двумерным массивом\n",
    "\n",
    "k = np.array([[[3, 4], [9, 7]], [[3, 4], [9, 7]]])\n",
    "print(a[k]) # индексируем трехмерным массивом"
   ]
  },
  {
   "cell_type": "markdown",
   "id": "149712f4",
   "metadata": {},
   "source": [
    "Можно делать операции присваивания"
   ]
  },
  {
   "cell_type": "code",
   "execution_count": 25,
   "id": "fcc48f98",
   "metadata": {},
   "outputs": [
    {
     "name": "stdout",
     "output_type": "stream",
     "text": [
      "[0 1 2 3 4]\n",
      "[2 1 3 3 4]\n",
      "[0 1 2 3 4]\n",
      "[2 1 3 3 4]\n"
     ]
    }
   ],
   "source": [
    "a = np.arange(5)\n",
    "print(a)\n",
    "a[[0, 0,2]]=[1,2,3]\n",
    "print(a)\n",
    "\n",
    "#  Обратите внимание индекс повторяется - используется второе значение\n",
    "a = np.arange(5)\n",
    "print(a)\n",
    "a[[0,2]]=[2,3]\n",
    "print(a)"
   ]
  },
  {
   "cell_type": "markdown",
   "id": "137fe24c",
   "metadata": {},
   "source": [
    "Индексирование булевыми значениями"
   ]
  },
  {
   "cell_type": "code",
   "execution_count": 26,
   "id": "c427030c",
   "metadata": {},
   "outputs": [
    {
     "name": "stdout",
     "output_type": "stream",
     "text": [
      "[[ 0  1  2  3]\n",
      " [ 4  5  6  7]\n",
      " [ 8  9 10 11]]\n",
      "[[False False False False]\n",
      " [False  True  True  True]\n",
      " [ True  True  True  True]]\n",
      "[ 5  6  7  8  9 10 11]\n"
     ]
    }
   ],
   "source": [
    "a = np.arange(12).reshape(3,4)\n",
    "b = a > 4 # массив True / False\n",
    "print(a)\n",
    "print(b)\n",
    "print(a[b])"
   ]
  },
  {
   "cell_type": "code",
   "execution_count": 27,
   "id": "7be62de5",
   "metadata": {},
   "outputs": [
    {
     "name": "stdout",
     "output_type": "stream",
     "text": [
      "[[ True False  True False]\n",
      " [ True False  True False]\n",
      " [ True False  True False]]\n",
      "[[-5  1 -5  3]\n",
      " [-5  5 -5  7]\n",
      " [-5  9 -5 11]]\n"
     ]
    }
   ],
   "source": [
    "a = np.arange(12).reshape(3,4)\n",
    "b = a%2 == 0 # массив True / False\n",
    "print(b)\n",
    "a[b] = -5\n",
    "print(a)"
   ]
  },
  {
   "cell_type": "markdown",
   "id": "a6a6e82e",
   "metadata": {},
   "source": [
    "# Линейная алгебра\n",
    "numpy содержит базовые функции линейной алгебры. Ниже приведены некоторые из них:"
   ]
  },
  {
   "cell_type": "code",
   "execution_count": 28,
   "id": "eb806f72",
   "metadata": {},
   "outputs": [
    {
     "name": "stdout",
     "output_type": "stream",
     "text": [
      "[[1. 2.]\n",
      " [3. 4.]]\n",
      "[[1. 3.]\n",
      " [2. 4.]]\n",
      "[[-2.   1. ]\n",
      " [ 1.5 -0.5]]\n",
      "[[1. 0.]\n",
      " [0. 1.]]\n",
      "[[-1.  0.]\n",
      " [ 0. -1.]]\n",
      "2.0\n",
      "[[-3.]\n",
      " [ 4.]]\n",
      "(array([0.+1.j, 0.-1.j]), array([[0.70710678+0.j        , 0.70710678-0.j        ],\n",
      "       [0.        -0.70710678j, 0.        +0.70710678j]]))\n"
     ]
    }
   ],
   "source": [
    "a = np.array([[1.0, 2.0], [3.0, 4.0]])\n",
    "print(a)\n",
    "print(a.T)\n",
    "\n",
    "# обратная матрица\n",
    "print(np.linalg.inv(a))\n",
    "\n",
    "u = np.eye(2) # диагональная матрица\n",
    "print(u)\n",
    "j = np.array([[0.0, -1.0], [1.0, 0.0]])\n",
    "\n",
    "# перемножение матриц\n",
    "print(j @ j)\n",
    "\n",
    "print(np.trace(u))  # след матрицы\n",
    "\n",
    "# решение системы линейных уравнений\n",
    "y = np.array([[5.], [7.]])\n",
    "print(np.linalg.solve(a, y))\n",
    "\n",
    "# собственные векторы\n",
    "print(np.linalg.eig(j))"
   ]
  },
  {
   "cell_type": "markdown",
   "id": "3c47e8ae",
   "metadata": {},
   "source": [
    "Создано на основе официального туториала https://numpy.org/doc/stable/user/quickstart.html"
   ]
  }
 ],
 "metadata": {
  "kernelspec": {
   "display_name": "Python 3",
   "language": "python",
   "name": "python3"
  },
  "language_info": {
   "codemirror_mode": {
    "name": "ipython",
    "version": 3
   },
   "file_extension": ".py",
   "mimetype": "text/x-python",
   "name": "python",
   "nbconvert_exporter": "python",
   "pygments_lexer": "ipython3",
   "version": "3.8.2"
  }
 },
 "nbformat": 4,
 "nbformat_minor": 5
}
